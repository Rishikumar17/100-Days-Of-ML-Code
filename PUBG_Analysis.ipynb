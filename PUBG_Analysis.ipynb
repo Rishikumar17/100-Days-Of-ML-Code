{
 "cells": [
  {
   "cell_type": "code",
   "execution_count": 1,
   "metadata": {},
   "outputs": [],
   "source": [
    "# DBNOs - Number of enemy players knocked.\n",
    "# assists - Number of enemy players this player damaged that were killed by teammates.\n",
    "# boosts - Number of boost items used.\n",
    "# damageDealt - Total damage dealt. Note: Self inflicted damage is subtracted.\n",
    "# headshotKills - Number of enemy players killed with headshots.\n",
    "# heals - Number of healing items used.\n",
    "# killPlace - Ranking in match of number of enemy players killed.\n",
    "# killPoints - Kills-based external ranking of player. (Think of this as an Elo ranking where only kills matter.)\n",
    "# killStreaks - Max number of enemy players killed in a short amount of time.\n",
    "# kills - Number of enemy players killed.\n",
    "# longestKill - Longest distance between player and player killed at time of death. This may be misleading, as downing a player and driving away may lead to a large longestKill stat.\n",
    "# matchId - Integer ID to identify match. There are no matches that are in both the training and testing set.\n",
    "# revives - Number of times this player revived teammates.\n",
    "# rideDistance - Total distance traveled in vehicles measured in meters.\n",
    "# roadKills - Number of kills while in a vehicle.\n",
    "# swimDistance - Total distance traveled by swimming measured in meters.\n",
    "# teamKills - Number of times this player killed a teammate.\n",
    "# vehicleDestroys - Number of vehicles destroyed.\n",
    "# walkDistance - Total distance traveled on foot measured in meters.\n",
    "# weaponsAcquired - Number of weapons picked up.\n",
    "# winPoints - Win-based external ranking of player. (Think of this as an Elo ranking where only winning matters.)\n",
    "# groupId - Integer ID to identify a group within a match. If the same group of players plays in different matches, they will have a different groupId each time.\n",
    "# numGroups - Number of groups we have data for in the match.\n",
    "# maxPlace - Worst placement we have data for in the match. This may not match with numGroups, as sometimes the data skips over placements.\n",
    "# winPlacePerc - The target of prediction. This is a percentile winning placement, where 1 corresponds to 1st place, and 0 corresponds to last place in the match. It is calculated off of maxPlace, not numGroups, so it is possible to have missing chunks in a match."
   ]
  },
  {
   "cell_type": "code",
   "execution_count": 2,
   "metadata": {},
   "outputs": [],
   "source": [
    "import pandas as pd\n",
    "import seaborn as sns\n",
    "import matplotlib.pyplot as plt\n",
    "#For charts parameter tuning\n",
    "import numpy as np\n",
    "from matplotlib.pylab import rcParams\n",
    "#Setting figure size\n",
    "rcParams['figure.figsize'] = 20,6"
   ]
  },
  {
   "cell_type": "code",
   "execution_count": 3,
   "metadata": {},
   "outputs": [
    {
     "data": {
      "text/plain": [
       "(4357336, 26)"
      ]
     },
     "execution_count": 3,
     "metadata": {},
     "output_type": "execute_result"
    }
   ],
   "source": [
    "#Reading csv\n",
    "dataset = pd.read_csv(\"../rishi/Desktop/train.csv\")\n",
    "dataset.shape"
   ]
  },
  {
   "cell_type": "code",
   "execution_count": 3,
   "metadata": {},
   "outputs": [
    {
     "data": {
      "text/plain": [
       "1.0"
      ]
     },
     "execution_count": 3,
     "metadata": {},
     "output_type": "execute_result"
    }
   ],
   "source": [
    "#First 5 entries\n",
    "dataset[\"winPlacePerc\"].max()"
   ]
  },
  {
   "cell_type": "code",
   "execution_count": null,
   "metadata": {},
   "outputs": [],
   "source": [
    "#Countplot for assists\n",
    "assistsdata = dataset.copy()\n",
    "assistsdata.loc[assistsdata['assists'] > assistsdata['assists'].quantile(0.99)] = '3+'\n",
    "plt.figure(figsize=(10,8))\n",
    "sns.countplot(assistsdata['assists'].astype('str').sort_values())\n",
    "plt.title(\"Assists Count Kill Count\",fontsize=15)\n",
    "plt.show()"
   ]
  },
  {
   "cell_type": "code",
   "execution_count": null,
   "metadata": {},
   "outputs": [],
   "source": [
    "#Countplot for DBNO's \n",
    "dbnosdata = dataset.copy()\n",
    "dbnosdata.loc[dbnosdata['DBNOs'] > dbnosdata['DBNOs'].quantile(0.99)] = '5+'\n",
    "plt.figure(figsize=(10,8))\n",
    "sns.countplot(dbnosdata['DBNOs'].astype('str').sort_values())\n",
    "plt.title(\"DBNOs Count Kill Count\",fontsize=15)\n",
    "plt.show()"
   ]
  },
  {
   "cell_type": "code",
   "execution_count": null,
   "metadata": {},
   "outputs": [],
   "source": [
    "#Countplot for headshots and having Headshots as hues\n",
    "headshotsdata = dataset.copy()\n",
    "headshotsdata.loc[headshotsdata['headshotKills'] > headshotsdata['headshotKills'].quantile(0.99)] = '8+'\n",
    "plt.figure(figsize=(10,8))\n",
    "sns.countplot(headshotsdata['headshotKills'].astype('str').sort_values())\n",
    "plt.title(\"Headshots Count Kill Count\",fontsize=15)\n",
    "plt.show()"
   ]
  },
  {
   "cell_type": "code",
   "execution_count": null,
   "metadata": {},
   "outputs": [],
   "source": [
    "print(\"The average person kills {:.4f} players, 99% of people have {} kills or less, while the most kills ever recorded is {}.\".format(dataset['kills'].mean(),dataset['kills'].quantile(0.99), dataset['kills'].max()))"
   ]
  },
  {
   "cell_type": "code",
   "execution_count": null,
   "metadata": {},
   "outputs": [],
   "source": [
    "# Let's plot the kill counts.\n",
    "killdata = dataset.copy()\n",
    "killdata.loc[killdata['kills'] > killdata['kills'].quantile(0.99)] = '8+'\n",
    "plt.figure(figsize=(10,8))\n",
    "sns.countplot(killdata['kills'].astype('str').sort_values())\n",
    "plt.title(\"Kill Count\",fontsize=15)\n",
    "plt.show()"
   ]
  },
  {
   "cell_type": "code",
   "execution_count": null,
   "metadata": {},
   "outputs": [],
   "source": [
    "#Damage done by people who have done zero damage\n",
    "damagedata = dataset.copy()\n",
    "damagedata = damagedata[damagedata['kills']==0]\n",
    "plt.figure(figsize=(15,10))\n",
    "plt.title(\"Damage done by people who have done zero damage\",fontsize=15)\n",
    "sns.distplot(damagedata['damageDealt'])\n",
    "plt.show()"
   ]
  },
  {
   "cell_type": "code",
   "execution_count": null,
   "metadata": {},
   "outputs": [],
   "source": [
    "#Players who have won without killing anyone\n",
    "print(\"No of players who have not killed a single player and won == \",len(damagedata[damagedata['winPlacePerc']==1]))\n",
    "print(\"Percentage of players who have not killed a single player and won == \",(len(damagedata[damagedata['winPlacePerc']==1])/len(dataset))*100)\n",
    "#Players who have won without doing any damage\n",
    "datadamage1 = dataset[dataset[\"damageDealt\"] == 0]\n",
    "print(\"No of players who have not damaged anything and won == \",len(datadamage1[datadamage1['winPlacePerc']==1]))"
   ]
  },
  {
   "cell_type": "code",
   "execution_count": null,
   "metadata": {},
   "outputs": [],
   "source": [
    "#Plot between kills and win percentage\n",
    "sns.jointplot(x = \"winPlacePerc\", y=\"kills\", data=dataset, height = 12, color = 'red')\n",
    "plt.show()"
   ]
  },
  {
   "cell_type": "code",
   "execution_count": null,
   "metadata": {},
   "outputs": [],
   "source": [
    "#Killing and Winning is evenly correlated\n",
    "# Lets plot them in group\n",
    "kills = dataset.copy()\n",
    "kills[\"killsCategories\"] = pd.cut(kills['kills'], [-1, 0, 2, 5, 10, 60], labels=['0_kills','1-2_kills', '3-5_kills', '6-10_kills', '10+_kills'])\n",
    "plt.figure(figsize=(15,8))\n",
    "sns.boxplot(x=\"killsCategories\", y=\"winPlacePerc\" , data=kills)\n",
    "plt.show()"
   ]
  },
  {
   "cell_type": "code",
   "execution_count": null,
   "metadata": {},
   "outputs": [],
   "source": [
    "print(\"The average person walks ==\",dataset[\"walkDistance\"].mean(),\"metres\")\n",
    "print(\"The maximum any person walked ==\",dataset[\"walkDistance\"].max(),\"metres\")\n",
    "print(\"99% of people have walked less than ==\",dataset[\"walkDistance\"].quantile(.99),\"metres\")"
   ]
  },
  {
   "cell_type": "code",
   "execution_count": null,
   "metadata": {},
   "outputs": [],
   "source": [
    "walkplot = dataset.copy()\n",
    "walkplot = walkplot[walkplot[\"walkDistance\"] < walkplot[\"walkDistance\"].quantile(.99)]\n",
    "plt.figure(figsize=(15,10))\n",
    "plt.title(\"Walking Distance Distribution \", fontsize = 15)\n",
    "sns.distplot(walkplot[\"walkDistance\"])\n",
    "plt.show()"
   ]
  },
  {
   "cell_type": "code",
   "execution_count": null,
   "metadata": {},
   "outputs": [],
   "source": [
    "print(\"No of peoples who died before taking first step\", len(dataset[dataset[\"walkDistance\"] == 0]))"
   ]
  },
  {
   "cell_type": "code",
   "execution_count": null,
   "metadata": {},
   "outputs": [],
   "source": [
    "#Plotting relation between walk distance and wins percentage\n",
    "sns.jointplot(x=\"winPlacePerc\", y=\"walkDistance\", data = dataset, height = 12, color= \"red\")\n",
    "plt.show()"
   ]
  },
  {
   "cell_type": "code",
   "execution_count": null,
   "metadata": {},
   "outputs": [],
   "source": [
    "print(\"Average ride for players =={}\", dataset[\"rideDistance\"].mean(), \"metres\")\n",
    "print(\"99% people ride ==\", dataset[\"rideDistance\"].quantile(0.99))\n",
    "print(\"Maximum ride is ==\", dataset[\"rideDistance\"].max())"
   ]
  },
  {
   "cell_type": "code",
   "execution_count": null,
   "metadata": {},
   "outputs": [],
   "source": [
    "rideData = dataset.copy()\n",
    "rideData = rideData[rideData[\"rideDistance\"] < dataset[\"rideDistance\"].quantile(0.9)]\n",
    "plt.figure(figsize=(15,10))\n",
    "plt.title(\"Riding Distribution\", fontsize = 15)\n",
    "sns.distplot(rideData[\"rideDistance\"])\n",
    "plt.show()"
   ]
  },
  {
   "cell_type": "code",
   "execution_count": null,
   "metadata": {},
   "outputs": [],
   "source": [
    "    print(\"Players who didn't ride a single metre \",len(dataset[dataset[\"rideDistance\"] == 0]))\n",
    "    print(\"Percentage of players who didn't ride a single metre \",round(len(dataset[dataset[\"rideDistance\"] == 0])/len(dataset),2))\n",
    "    print(\"Players who rode the most \",dataset[\"rideDistance\"].max())"
   ]
  },
  {
   "cell_type": "code",
   "execution_count": null,
   "metadata": {},
   "outputs": [],
   "source": [
    "sns.jointplot(x = \"winPlacePerc\", y=\"rideDistance\", data=dataset, height = 10, ratio=3, color=\"yellow\")\n",
    "plt.show()"
   ]
  },
  {
   "cell_type": "code",
   "execution_count": null,
   "metadata": {},
   "outputs": [],
   "source": [
    "# Lets plot while destroying a vehicle\n",
    "f, ax1 = plt.subplots(figsize = (20,10))\n",
    "sns.pointplot(x = \"vehicleDestroys\", y=\"winPlacePerc\", data = dataset, color = \"red\",alpha = 0.8)\n",
    "plt.xlabel('Number of Vehicles destroyed',fontsize = 15, color='blue')\n",
    "plt.ylabel('Win Ratio', fontsize = 15, color= 'red')\n",
    "plt.title('Vehicle Destroyed/ Win Ratio', fontsize = 20, color='blue')\n",
    "plt.grid()\n",
    "plt.show()"
   ]
  },
  {
   "cell_type": "code",
   "execution_count": null,
   "metadata": {},
   "outputs": [],
   "source": [
    "#Lets play with swim data\n",
    "print(\"Average person swims ==\",round(dataset[\"swimDistance\"].mean(),2),\" metres\")\n",
    "print(\"99% people swim less than ==\",round(dataset[\"swimDistance\"].quantile(0.99),2), \"metres\")\n",
    "print(\"Person with maximum swim  ==\",round(dataset[\"swimDistance\"].max(),2), \"metres\")"
   ]
  },
  {
   "cell_type": "code",
   "execution_count": null,
   "metadata": {},
   "outputs": [],
   "source": [
    "swimData = dataset.copy()\n",
    "swimData = swimData[swimData[\"swimDistance\"] < dataset[\"swimDistance\"].quantile(0.99)]\n",
    "plt.figure(figsize=(15,10))\n",
    "plt.title(\"Swimming Distribution \",fontsize = 15)\n",
    "sns.distplot(swimData[\"swimDistance\"])\n",
    "plt.show()"
   ]
  },
  {
   "cell_type": "code",
   "execution_count": null,
   "metadata": {},
   "outputs": [],
   "source": [
    "swimdata = dataset.copy()\n",
    "swimdata['swimDistance'] = pd.cut(swimdata['swimDistance'],[-1,0,5,20,5286],labels=['0m','1-5m','6-20m','20m+'])\n",
    "plt.figure(figsize=(15,8))\n",
    "sns.boxplot(x=\"swimDistance\",y=\"winPlacePerc\", data=swimdata)\n",
    "plt.show()"
   ]
  },
  {
   "cell_type": "code",
   "execution_count": null,
   "metadata": {},
   "outputs": [],
   "source": [
    "# Lets play with healing and boost data\n",
    "print(\"Average person heals for ==\",round(dataset[\"heals\"].mean(),2),\"items\")\n",
    "print(\"99% of people heal less than ==\", round(dataset[\"heals\"].quantile(0.99),2),\"items\")\n",
    "print(\"Doctors uses ==\",round(dataset[\"heals\"].max(),2),\"items\")\n",
    "print(\"===========================================================\")\n",
    "print(\"Average boosts used is==\",round(dataset[\"boosts\"].mean(),2),\"items\")\n",
    "print(\"99% of people boosts less than ==\", round(dataset[\"boosts\"].quantile(0.99),2),\"items\")\n",
    "print(\"Boosters uses ==\",round(dataset[\"boosts\"].max(),2),\"items\")"
   ]
  },
  {
   "cell_type": "code",
   "execution_count": null,
   "metadata": {},
   "outputs": [],
   "source": [
    "hbdata = dataset.copy()\n",
    "hbdata[\"heals\"] = hbdata[hbdata[\"heals\"] < hbdata[\"heals\"].quantile(0.99)]\n",
    "hbdata[\"boosts\"] = hbdata[hbdata[\"boosts\"] < hbdata[\"boosts\"].quantile(0.99)]\n",
    "\n",
    "f,ax = plt.subplots(figsize = (20,10))\n",
    "sns.pointplot(x = \"heals\", y=\"winPlacePerc\", data = hbdata, color = 'red',alpha = 0.8)\n",
    "sns.pointplot(x = \"boosts\", y=\"winPlacePerc\", data = hbdata, color = 'blue', alpha = 0.8)\n",
    "plt.text(4,0.6,'Heals',color='red',fontsize = 17,style = 'italic')\n",
    "plt.text(4,0.55,'Boosts',color='blue',fontsize = 17,style = 'italic')\n",
    "plt.xlabel('Number of heal/boost items',fontsize = 15,color='blue')\n",
    "plt.ylabel('Win Percentage',fontsize = 15,color='blue')\n",
    "plt.title('Heals vs Boosts',fontsize = 20,color='blue')\n",
    "plt.grid()\n",
    "plt.show()"
   ]
  },
  {
   "cell_type": "code",
   "execution_count": null,
   "metadata": {},
   "outputs": [],
   "source": [
    "sns.jointplot(x=\"winPlacePerc\", y=\"heals\", data=dataset,height = 10, ratio = 3, color=\"lime\")\n",
    "plt.show()"
   ]
  },
  {
   "cell_type": "code",
   "execution_count": null,
   "metadata": {},
   "outputs": [],
   "source": [
    "sns.jointplot(x=\"winPlacePerc\", y=\"boosts\", data=dataset, height=10, ratio=3, color=\"blue\")\n",
    "plt.show()"
   ]
  },
  {
   "cell_type": "code",
   "execution_count": 4,
   "metadata": {},
   "outputs": [
    {
     "name": "stdout",
     "output_type": "stream",
     "text": [
      "There are 563279 solo games , 3030152 duo games, 723907 squad games\n"
     ]
    }
   ],
   "source": [
    "solos = dataset[dataset[\"numGroups\"]>50]\n",
    "duos = dataset[(dataset[\"numGroups\"] > 25)&(dataset[\"numGroups\"] < 50)]\n",
    "squads = dataset[dataset['numGroups']<=25]\n",
    "print(\"There are {} solo games , {} duo games, {} squad games\".format(len(solos),len(duos),len(squads)))"
   ]
  },
  {
   "cell_type": "code",
   "execution_count": null,
   "metadata": {},
   "outputs": [],
   "source": [
    "f,ax1 = plt.subplots(figsize =(20,10))\n",
    "sns.pointplot(x='kills',y='winPlacePerc',data=solos,color='black',alpha=0.8)\n",
    "sns.pointplot(x='kills',y='winPlacePerc',data=duos,color='#CC0000',alpha=0.8)\n",
    "sns.pointplot(x='kills',y='winPlacePerc',data=squads,color='#3399FF',alpha=0.8)\n",
    "plt.text(37,0.6,'Solos',color='black',fontsize = 17,style = 'italic')\n",
    "plt.text(37,0.55,'Duos',color='#CC0000',fontsize = 17,style = 'italic')\n",
    "plt.text(37,0.5,'Squads',color='#3399FF',fontsize = 17,style = 'italic')\n",
    "plt.xlabel('Number of kills',fontsize = 15,color='blue')\n",
    "plt.ylabel('Win Percentage',fontsize = 15,color='blue')\n",
    "plt.title('Solo vs Duo vs Squad Kills',fontsize = 20,color='blue')\n",
    "plt.grid()\n",
    "plt.show()\n"
   ]
  },
  {
   "cell_type": "code",
   "execution_count": null,
   "metadata": {},
   "outputs": [],
   "source": [
    "f,ax = plt.subplots(figsize = (12,12))\n",
    "sns.heatmap(dataset.corr(),annot=True,linewidths=0.5,fmt='.1f',ax=ax)\n",
    "plt.show()"
   ]
  },
  {
   "cell_type": "code",
   "execution_count": 5,
   "metadata": {},
   "outputs": [
    {
     "data": {
      "image/png": "[encoded data removed]",
      "text/plain": [
       "<Figure size 792x792 with 2 Axes>"
      ]
     },
     "metadata": {},
     "output_type": "display_data"
    }
   ],
   "source": [
    "k = 6 #number of variables for heatmap\n",
    "f,ax = plt.subplots(figsize=(11, 11))\n",
    "cols = dataset.corr().nlargest(k, 'winPlacePerc')['winPlacePerc'].index\n",
    "cm = np.corrcoef(dataset[cols].values.T)\n",
    "sns.set(font_scale=1.25)\n",
    "hm = sns.heatmap(cm, cbar=True, annot=True, square=True, fmt='.2f', annot_kws={'size': 20}, yticklabels=cols.values, xticklabels=cols.values)\n",
    "plt.show()"
   ]
  },
  {
   "cell_type": "code",
   "execution_count": null,
   "metadata": {},
   "outputs": [],
   "source": [
    "sns.set()\n",
    "cols = ['winPlacePerc', 'walkDistance', 'boosts', 'weaponsAcquired', 'damageDealt', 'killPlace']\n",
    "sns.pairplot(dataset[cols], size = 2.5)\n",
    "plt.show()"
   ]
  },
  {
   "cell_type": "code",
   "execution_count": 4,
   "metadata": {},
   "outputs": [],
   "source": [
    "dataset['playersJoined'] = dataset.groupby('matchId')['matchId'].transform('count')"
   ]
  },
  {
   "cell_type": "code",
   "execution_count": 97,
   "metadata": {},
   "outputs": [
    {
     "data": {
      "image/png": "[encoded data removed]",
      "text/plain": [
       "<Figure size 1080x720 with 1 Axes>"
      ]
     },
     "metadata": {},
     "output_type": "display_data"
    }
   ],
   "source": [
    "notplayed = dataset.copy()\n",
    "notplayed = notplayed[notplayed[\"playersJoined\"]>49]\n",
    "plt.figure(figsize=(15,10))\n",
    "sns.countplot(notplayed[\"playersJoined\"])\n",
    "plt.title(\"Players joined\",fontsize = 15)\n",
    "plt.show()"
   ]
  },
  {
   "cell_type": "code",
   "execution_count": 5,
   "metadata": {},
   "outputs": [
    {
     "data": {
      "text/html": [
       "<div>\n",
       "<style scoped>\n",
       "    .dataframe tbody tr th:only-of-type {\n",
       "        vertical-align: middle;\n",
       "    }\n",
       "\n",
       "    .dataframe tbody tr th {\n",
       "        vertical-align: top;\n",
       "    }\n",
       "\n",
       "    .dataframe thead th {\n",
       "        text-align: right;\n",
       "    }\n",
       "</style>\n",
       "<table border=\"1\" class=\"dataframe\">\n",
       "  <thead>\n",
       "    <tr style=\"text-align: right;\">\n",
       "      <th></th>\n",
       "      <th>playersJoined</th>\n",
       "      <th>kills</th>\n",
       "      <th>killsNorm</th>\n",
       "      <th>damageDealt</th>\n",
       "      <th>damageDealtNorm</th>\n",
       "    </tr>\n",
       "  </thead>\n",
       "  <tbody>\n",
       "    <tr>\n",
       "      <th>12</th>\n",
       "      <td>98</td>\n",
       "      <td>2</td>\n",
       "      <td>2.04</td>\n",
       "      <td>196.50</td>\n",
       "      <td>200.4300</td>\n",
       "    </tr>\n",
       "    <tr>\n",
       "      <th>13</th>\n",
       "      <td>92</td>\n",
       "      <td>3</td>\n",
       "      <td>3.24</td>\n",
       "      <td>473.40</td>\n",
       "      <td>511.2720</td>\n",
       "    </tr>\n",
       "    <tr>\n",
       "      <th>14</th>\n",
       "      <td>94</td>\n",
       "      <td>0</td>\n",
       "      <td>0.00</td>\n",
       "      <td>194.60</td>\n",
       "      <td>206.2760</td>\n",
       "    </tr>\n",
       "    <tr>\n",
       "      <th>15</th>\n",
       "      <td>93</td>\n",
       "      <td>0</td>\n",
       "      <td>0.00</td>\n",
       "      <td>51.97</td>\n",
       "      <td>55.6079</td>\n",
       "    </tr>\n",
       "    <tr>\n",
       "      <th>16</th>\n",
       "      <td>96</td>\n",
       "      <td>0</td>\n",
       "      <td>0.00</td>\n",
       "      <td>0.00</td>\n",
       "      <td>0.0000</td>\n",
       "    </tr>\n",
       "    <tr>\n",
       "      <th>17</th>\n",
       "      <td>96</td>\n",
       "      <td>2</td>\n",
       "      <td>2.08</td>\n",
       "      <td>227.40</td>\n",
       "      <td>236.4960</td>\n",
       "    </tr>\n",
       "    <tr>\n",
       "      <th>18</th>\n",
       "      <td>75</td>\n",
       "      <td>0</td>\n",
       "      <td>0.00</td>\n",
       "      <td>15.25</td>\n",
       "      <td>19.0625</td>\n",
       "    </tr>\n",
       "    <tr>\n",
       "      <th>19</th>\n",
       "      <td>100</td>\n",
       "      <td>0</td>\n",
       "      <td>0.00</td>\n",
       "      <td>0.00</td>\n",
       "      <td>0.0000</td>\n",
       "    </tr>\n",
       "    <tr>\n",
       "      <th>20</th>\n",
       "      <td>97</td>\n",
       "      <td>2</td>\n",
       "      <td>2.06</td>\n",
       "      <td>357.60</td>\n",
       "      <td>368.3280</td>\n",
       "    </tr>\n",
       "    <tr>\n",
       "      <th>21</th>\n",
       "      <td>95</td>\n",
       "      <td>1</td>\n",
       "      <td>1.05</td>\n",
       "      <td>100.00</td>\n",
       "      <td>105.0000</td>\n",
       "    </tr>\n",
       "    <tr>\n",
       "      <th>22</th>\n",
       "      <td>92</td>\n",
       "      <td>18</td>\n",
       "      <td>19.44</td>\n",
       "      <td>1633.00</td>\n",
       "      <td>1763.6400</td>\n",
       "    </tr>\n",
       "    <tr>\n",
       "      <th>23</th>\n",
       "      <td>97</td>\n",
       "      <td>0</td>\n",
       "      <td>0.00</td>\n",
       "      <td>28.38</td>\n",
       "      <td>29.2314</td>\n",
       "    </tr>\n",
       "    <tr>\n",
       "      <th>24</th>\n",
       "      <td>82</td>\n",
       "      <td>2</td>\n",
       "      <td>2.36</td>\n",
       "      <td>277.80</td>\n",
       "      <td>327.8040</td>\n",
       "    </tr>\n",
       "  </tbody>\n",
       "</table>\n",
       "</div>"
      ],
      "text/plain": [
       "    playersJoined  kills  killsNorm  damageDealt  damageDealtNorm\n",
       "12             98      2       2.04       196.50         200.4300\n",
       "13             92      3       3.24       473.40         511.2720\n",
       "14             94      0       0.00       194.60         206.2760\n",
       "15             93      0       0.00        51.97          55.6079\n",
       "16             96      0       0.00         0.00           0.0000\n",
       "17             96      2       2.08       227.40         236.4960\n",
       "18             75      0       0.00        15.25          19.0625\n",
       "19            100      0       0.00         0.00           0.0000\n",
       "20             97      2       2.06       357.60         368.3280\n",
       "21             95      1       1.05       100.00         105.0000\n",
       "22             92     18      19.44      1633.00        1763.6400\n",
       "23             97      0       0.00        28.38          29.2314\n",
       "24             82      2       2.36       277.80         327.8040"
      ]
     },
     "execution_count": 5,
     "metadata": {},
     "output_type": "execute_result"
    }
   ],
   "source": [
    "#Normalized the killing data and damage dealt and added it to the dataset\n",
    "dataset['killsNorm'] = dataset['kills']*((100-dataset['playersJoined'])/100 + 1)\n",
    "dataset['damageDealtNorm'] = dataset['damageDealt']*((100-dataset['playersJoined'])/100 + 1)\n",
    "dataset[['playersJoined', 'kills', 'killsNorm', 'damageDealt', 'damageDealtNorm']][12:25]"
   ]
  },
  {
   "cell_type": "code",
   "execution_count": 6,
   "metadata": {},
   "outputs": [],
   "source": [
    "# Another simple feature is the sum of heals and boosts. Also the sum of total distance travelled.\n",
    "dataset[\"healsAndBoosts\"] = dataset[\"heals\"] + dataset[\"boosts\"]\n",
    "dataset[\"totalDistance\"] = dataset[\"walkDistance\"] + dataset[\"rideDistance\"]+ dataset[\"swimDistance\"]"
   ]
  },
  {
   "cell_type": "code",
   "execution_count": 7,
   "metadata": {},
   "outputs": [
    {
     "data": {
      "text/html": [
       "<div>\n",
       "<style scoped>\n",
       "    .dataframe tbody tr th:only-of-type {\n",
       "        vertical-align: middle;\n",
       "    }\n",
       "\n",
       "    .dataframe tbody tr th {\n",
       "        vertical-align: top;\n",
       "    }\n",
       "\n",
       "    .dataframe thead th {\n",
       "        text-align: right;\n",
       "    }\n",
       "</style>\n",
       "<table border=\"1\" class=\"dataframe\">\n",
       "  <thead>\n",
       "    <tr style=\"text-align: right;\">\n",
       "      <th></th>\n",
       "      <th>walkDistance</th>\n",
       "      <th>boosts</th>\n",
       "      <th>boostsPerWalkDistance</th>\n",
       "      <th>heals</th>\n",
       "      <th>healsPerWalkDistance</th>\n",
       "      <th>healsAndBoosts</th>\n",
       "      <th>healsAndBoostsPerWalkDistance</th>\n",
       "    </tr>\n",
       "  </thead>\n",
       "  <tbody>\n",
       "    <tr>\n",
       "      <th>10</th>\n",
       "      <td>184.50</td>\n",
       "      <td>1</td>\n",
       "      <td>0.005391</td>\n",
       "      <td>1</td>\n",
       "      <td>0.005391</td>\n",
       "      <td>2</td>\n",
       "      <td>0.010782</td>\n",
       "    </tr>\n",
       "    <tr>\n",
       "      <th>11</th>\n",
       "      <td>1036.00</td>\n",
       "      <td>0</td>\n",
       "      <td>0.000000</td>\n",
       "      <td>0</td>\n",
       "      <td>0.000000</td>\n",
       "      <td>0</td>\n",
       "      <td>0.000000</td>\n",
       "    </tr>\n",
       "    <tr>\n",
       "      <th>12</th>\n",
       "      <td>726.50</td>\n",
       "      <td>1</td>\n",
       "      <td>0.001375</td>\n",
       "      <td>0</td>\n",
       "      <td>0.000000</td>\n",
       "      <td>1</td>\n",
       "      <td>0.001375</td>\n",
       "    </tr>\n",
       "    <tr>\n",
       "      <th>13</th>\n",
       "      <td>3177.00</td>\n",
       "      <td>5</td>\n",
       "      <td>0.001573</td>\n",
       "      <td>3</td>\n",
       "      <td>0.000944</td>\n",
       "      <td>8</td>\n",
       "      <td>0.002517</td>\n",
       "    </tr>\n",
       "    <tr>\n",
       "      <th>14</th>\n",
       "      <td>69.93</td>\n",
       "      <td>0</td>\n",
       "      <td>0.000000</td>\n",
       "      <td>0</td>\n",
       "      <td>0.000000</td>\n",
       "      <td>0</td>\n",
       "      <td>0.000000</td>\n",
       "    </tr>\n",
       "    <tr>\n",
       "      <th>15</th>\n",
       "      <td>2045.00</td>\n",
       "      <td>2</td>\n",
       "      <td>0.000978</td>\n",
       "      <td>4</td>\n",
       "      <td>0.001955</td>\n",
       "      <td>6</td>\n",
       "      <td>0.002933</td>\n",
       "    </tr>\n",
       "    <tr>\n",
       "      <th>16</th>\n",
       "      <td>362.10</td>\n",
       "      <td>0</td>\n",
       "      <td>0.000000</td>\n",
       "      <td>0</td>\n",
       "      <td>0.000000</td>\n",
       "      <td>0</td>\n",
       "      <td>0.000000</td>\n",
       "    </tr>\n",
       "    <tr>\n",
       "      <th>17</th>\n",
       "      <td>1804.00</td>\n",
       "      <td>6</td>\n",
       "      <td>0.003324</td>\n",
       "      <td>8</td>\n",
       "      <td>0.004432</td>\n",
       "      <td>14</td>\n",
       "      <td>0.007756</td>\n",
       "    </tr>\n",
       "    <tr>\n",
       "      <th>18</th>\n",
       "      <td>947.40</td>\n",
       "      <td>0</td>\n",
       "      <td>0.000000</td>\n",
       "      <td>2</td>\n",
       "      <td>0.002109</td>\n",
       "      <td>2</td>\n",
       "      <td>0.002109</td>\n",
       "    </tr>\n",
       "    <tr>\n",
       "      <th>19</th>\n",
       "      <td>165.80</td>\n",
       "      <td>0</td>\n",
       "      <td>0.000000</td>\n",
       "      <td>0</td>\n",
       "      <td>0.000000</td>\n",
       "      <td>0</td>\n",
       "      <td>0.000000</td>\n",
       "    </tr>\n",
       "  </tbody>\n",
       "</table>\n",
       "</div>"
      ],
      "text/plain": [
       "    walkDistance  boosts  boostsPerWalkDistance  heals  healsPerWalkDistance  \\\n",
       "10        184.50       1               0.005391      1              0.005391   \n",
       "11       1036.00       0               0.000000      0              0.000000   \n",
       "12        726.50       1               0.001375      0              0.000000   \n",
       "13       3177.00       5               0.001573      3              0.000944   \n",
       "14         69.93       0               0.000000      0              0.000000   \n",
       "15       2045.00       2               0.000978      4              0.001955   \n",
       "16        362.10       0               0.000000      0              0.000000   \n",
       "17       1804.00       6               0.003324      8              0.004432   \n",
       "18        947.40       0               0.000000      2              0.002109   \n",
       "19        165.80       0               0.000000      0              0.000000   \n",
       "\n",
       "    healsAndBoosts  healsAndBoostsPerWalkDistance  \n",
       "10               2                       0.010782  \n",
       "11               0                       0.000000  \n",
       "12               1                       0.001375  \n",
       "13               8                       0.002517  \n",
       "14               0                       0.000000  \n",
       "15               6                       0.002933  \n",
       "16               0                       0.000000  \n",
       "17              14                       0.007756  \n",
       "18               2                       0.002109  \n",
       "19               0                       0.000000  "
      ]
     },
     "execution_count": 7,
     "metadata": {},
     "output_type": "execute_result"
    }
   ],
   "source": [
    "dataset[\"healsPerWalkDistance\"] = dataset[\"heals\"] / (dataset[\"walkDistance\"]+1)\n",
    "# The heals used are > 0 and distance walked = 0 . This is Strange\n",
    "dataset[\"healsPerWalkDistance\"].fillna(0,inplace = True)\n",
    "\n",
    "dataset[\"boostsPerWalkDistance\"] = dataset[\"boosts\"] / (dataset[\"walkDistance\"] + 1)\n",
    "# The boosts used are > 0 and distance walked = 0 . This is Strange\n",
    "dataset[\"boostsPerWalkDistance\"].fillna(0, inplace = True)\n",
    "\n",
    "dataset['healsPerWalkDistance'].fillna(0, inplace=True)\n",
    "dataset['healsAndBoostsPerWalkDistance'] = dataset['healsAndBoosts']/(dataset['walkDistance']+1) #The +1 is to avoid infinity.\n",
    "dataset['healsAndBoostsPerWalkDistance'].fillna(0, inplace=True)\n",
    "dataset[['walkDistance', 'boosts', 'boostsPerWalkDistance' ,'heals',  'healsPerWalkDistance', 'healsAndBoosts', 'healsAndBoostsPerWalkDistance']][10:20]"
   ]
  },
  {
   "cell_type": "code",
   "execution_count": 8,
   "metadata": {},
   "outputs": [
    {
     "data": {
      "text/html": [
       "<div>\n",
       "<style scoped>\n",
       "    .dataframe tbody tr th:only-of-type {\n",
       "        vertical-align: middle;\n",
       "    }\n",
       "\n",
       "    .dataframe tbody tr th {\n",
       "        vertical-align: top;\n",
       "    }\n",
       "\n",
       "    .dataframe thead th {\n",
       "        text-align: right;\n",
       "    }\n",
       "</style>\n",
       "<table border=\"1\" class=\"dataframe\">\n",
       "  <thead>\n",
       "    <tr style=\"text-align: right;\">\n",
       "      <th></th>\n",
       "      <th>kills</th>\n",
       "      <th>walkDistance</th>\n",
       "      <th>rideDistance</th>\n",
       "      <th>killsPerWalkDistance</th>\n",
       "      <th>winPlacePerc</th>\n",
       "    </tr>\n",
       "  </thead>\n",
       "  <tbody>\n",
       "    <tr>\n",
       "      <th>1963256</th>\n",
       "      <td>25</td>\n",
       "      <td>0.0</td>\n",
       "      <td>0.0</td>\n",
       "      <td>25.0</td>\n",
       "      <td>1.0000</td>\n",
       "    </tr>\n",
       "    <tr>\n",
       "      <th>593613</th>\n",
       "      <td>25</td>\n",
       "      <td>0.0</td>\n",
       "      <td>0.0</td>\n",
       "      <td>25.0</td>\n",
       "      <td>1.0000</td>\n",
       "    </tr>\n",
       "    <tr>\n",
       "      <th>485441</th>\n",
       "      <td>25</td>\n",
       "      <td>0.0</td>\n",
       "      <td>0.0</td>\n",
       "      <td>25.0</td>\n",
       "      <td>0.9583</td>\n",
       "    </tr>\n",
       "    <tr>\n",
       "      <th>642937</th>\n",
       "      <td>25</td>\n",
       "      <td>0.0</td>\n",
       "      <td>0.0</td>\n",
       "      <td>25.0</td>\n",
       "      <td>0.8182</td>\n",
       "    </tr>\n",
       "    <tr>\n",
       "      <th>43076</th>\n",
       "      <td>26</td>\n",
       "      <td>0.0</td>\n",
       "      <td>0.0</td>\n",
       "      <td>26.0</td>\n",
       "      <td>1.0000</td>\n",
       "    </tr>\n",
       "    <tr>\n",
       "      <th>1869760</th>\n",
       "      <td>26</td>\n",
       "      <td>0.0</td>\n",
       "      <td>0.0</td>\n",
       "      <td>26.0</td>\n",
       "      <td>1.0000</td>\n",
       "    </tr>\n",
       "    <tr>\n",
       "      <th>381369</th>\n",
       "      <td>27</td>\n",
       "      <td>0.0</td>\n",
       "      <td>0.0</td>\n",
       "      <td>27.0</td>\n",
       "      <td>0.0000</td>\n",
       "    </tr>\n",
       "    <tr>\n",
       "      <th>32826</th>\n",
       "      <td>27</td>\n",
       "      <td>0.0</td>\n",
       "      <td>0.0</td>\n",
       "      <td>27.0</td>\n",
       "      <td>1.0000</td>\n",
       "    </tr>\n",
       "    <tr>\n",
       "      <th>67318</th>\n",
       "      <td>31</td>\n",
       "      <td>0.0</td>\n",
       "      <td>0.0</td>\n",
       "      <td>31.0</td>\n",
       "      <td>0.8571</td>\n",
       "    </tr>\n",
       "    <tr>\n",
       "      <th>841163</th>\n",
       "      <td>31</td>\n",
       "      <td>0.0</td>\n",
       "      <td>0.0</td>\n",
       "      <td>31.0</td>\n",
       "      <td>1.0000</td>\n",
       "    </tr>\n",
       "  </tbody>\n",
       "</table>\n",
       "</div>"
      ],
      "text/plain": [
       "         kills  walkDistance  rideDistance  killsPerWalkDistance  winPlacePerc\n",
       "1963256     25           0.0           0.0                  25.0        1.0000\n",
       "593613      25           0.0           0.0                  25.0        1.0000\n",
       "485441      25           0.0           0.0                  25.0        0.9583\n",
       "642937      25           0.0           0.0                  25.0        0.8182\n",
       "43076       26           0.0           0.0                  26.0        1.0000\n",
       "1869760     26           0.0           0.0                  26.0        1.0000\n",
       "381369      27           0.0           0.0                  27.0        0.0000\n",
       "32826       27           0.0           0.0                  27.0        1.0000\n",
       "67318       31           0.0           0.0                  31.0        0.8571\n",
       "841163      31           0.0           0.0                  31.0        1.0000"
      ]
     },
     "execution_count": 8,
     "metadata": {},
     "output_type": "execute_result"
    }
   ],
   "source": [
    "dataset['killsPerWalkDistance'] = dataset['kills']/(dataset['walkDistance']+1) #The +1 is to avoid infinity, because there are entries where kills>0 and walkDistance=0. Strange.\n",
    "dataset['killsPerWalkDistance'].fillna(0, inplace=True)\n",
    "dataset[['kills', 'walkDistance', 'rideDistance', 'killsPerWalkDistance', 'winPlacePerc']].sort_values(by='killsPerWalkDistance').tail(10)"
   ]
  },
  {
   "cell_type": "code",
   "execution_count": 9,
   "metadata": {},
   "outputs": [],
   "source": [
    "dataset[\"team\"] = [1 if i>50 else 2 if(i>25 and i<=50) else 4 for i in dataset[\"numGroups\"]]"
   ]
  },
  {
   "cell_type": "code",
   "execution_count": 10,
   "metadata": {},
   "outputs": [
    {
     "data": {
      "text/plain": [
       "(4357336, 36)"
      ]
     },
     "execution_count": 10,
     "metadata": {},
     "output_type": "execute_result"
    }
   ],
   "source": [
    "dataset.shape"
   ]
  },
  {
   "cell_type": "code",
   "execution_count": 11,
   "metadata": {},
   "outputs": [
    {
     "data": {
      "image/png": "[encoded data removed]",
      "text/plain": [
       "<Figure size 792x792 with 2 Axes>"
      ]
     },
     "metadata": {},
     "output_type": "display_data"
    }
   ],
   "source": [
    "k = 15 #number of variables for heatmap\n",
    "f,ax = plt.subplots(figsize=(11, 11))\n",
    "cols = dataset.corr().nlargest(k, 'winPlacePerc')['winPlacePerc'].index\n",
    "cm = np.corrcoef(dataset[cols].values.T)\n",
    "sns.set(font_scale=1.25)\n",
    "hm = sns.heatmap(cm, cbar=True, annot=True, square=True, fmt='.2f', annot_kws={'size': 10}, yticklabels=cols.values, xticklabels=cols.values)\n",
    "plt.show()"
   ]
  },
  {
   "cell_type": "code",
   "execution_count": 12,
   "metadata": {},
   "outputs": [
    {
     "data": {
      "text/plain": [
       "Index(['winPlacePerc', 'walkDistance', 'totalDistance', 'boosts',\n",
       "       'weaponsAcquired', 'healsAndBoosts', 'damageDealt', 'heals', 'kills',\n",
       "       'damageDealtNorm', 'longestKill', 'killsNorm', 'killStreaks', 'assists',\n",
       "       'rideDistance'],\n",
       "      dtype='object')"
      ]
     },
     "execution_count": 12,
     "metadata": {},
     "output_type": "execute_result"
    }
   ],
   "source": [
    "firstrun = dataset[cols]\n",
    "firstrun.columns"
   ]
  },
  {
   "cell_type": "code",
   "execution_count": 13,
   "metadata": {},
   "outputs": [],
   "source": [
    "X = firstrun.iloc[:,1:]"
   ]
  },
  {
   "cell_type": "code",
   "execution_count": 14,
   "metadata": {},
   "outputs": [],
   "source": [
    "Y = firstrun.iloc[:,0]"
   ]
  },
  {
   "cell_type": "code",
   "execution_count": 15,
   "metadata": {},
   "outputs": [
    {
     "name": "stdout",
     "output_type": "stream",
     "text": [
      "(4357336, 14)\n",
      "(4357336,)\n"
     ]
    }
   ],
   "source": [
    "print(X.shape)\n",
    "print(Y.shape)"
   ]
  },
  {
   "cell_type": "code",
   "execution_count": 109,
   "metadata": {},
   "outputs": [
    {
     "data": {
      "text/plain": [
       "LinearRegression(copy_X=True, fit_intercept=True, n_jobs=1, normalize=False)"
      ]
     },
     "execution_count": 109,
     "metadata": {},
     "output_type": "execute_result"
    }
   ],
   "source": [
    "from sklearn.linear_model import LinearRegression\n",
    "regressor = LinearRegression()\n",
    "regressor.fit(X,Y)"
   ]
  },
  {
   "cell_type": "code",
   "execution_count": null,
   "metadata": {},
   "outputs": [],
   "source": [
    "from sklearn.ensemble import RandomForestRegressor\n",
    "regressor = RandomForestRegressor(n_estimators = 300, random_state = 0)\n",
    "regressor.fit(X,Y)"
   ]
  },
  {
   "cell_type": "code",
   "execution_count": 110,
   "metadata": {},
   "outputs": [],
   "source": [
    "y_pred = regressor.predict(X_test)"
   ]
  },
  {
   "cell_type": "code",
   "execution_count": 111,
   "metadata": {},
   "outputs": [
    {
     "data": {
      "text/plain": [
       "0.7081167230610628"
      ]
     },
     "execution_count": 111,
     "metadata": {},
     "output_type": "execute_result"
    }
   ],
   "source": [
    "regressor.score(X_test,y_test)"
   ]
  },
  {
   "cell_type": "code",
   "execution_count": 134,
   "metadata": {},
   "outputs": [
    {
     "data": {
      "text/html": [
       "<div>\n",
       "<style scoped>\n",
       "    .dataframe tbody tr th:only-of-type {\n",
       "        vertical-align: middle;\n",
       "    }\n",
       "\n",
       "    .dataframe tbody tr th {\n",
       "        vertical-align: top;\n",
       "    }\n",
       "\n",
       "    .dataframe thead th {\n",
       "        text-align: right;\n",
       "    }\n",
       "</style>\n",
       "<table border=\"1\" class=\"dataframe\">\n",
       "  <thead>\n",
       "    <tr style=\"text-align: right;\">\n",
       "      <th></th>\n",
       "      <th>Id</th>\n",
       "      <th>groupId</th>\n",
       "      <th>matchId</th>\n",
       "      <th>assists</th>\n",
       "      <th>boosts</th>\n",
       "      <th>damageDealt</th>\n",
       "      <th>DBNOs</th>\n",
       "      <th>headshotKills</th>\n",
       "      <th>heals</th>\n",
       "      <th>killPlace</th>\n",
       "      <th>...</th>\n",
       "      <th>numGroups</th>\n",
       "      <th>revives</th>\n",
       "      <th>rideDistance</th>\n",
       "      <th>roadKills</th>\n",
       "      <th>swimDistance</th>\n",
       "      <th>teamKills</th>\n",
       "      <th>vehicleDestroys</th>\n",
       "      <th>walkDistance</th>\n",
       "      <th>weaponsAcquired</th>\n",
       "      <th>winPoints</th>\n",
       "    </tr>\n",
       "  </thead>\n",
       "  <tbody>\n",
       "    <tr>\n",
       "      <th>0</th>\n",
       "      <td>47734</td>\n",
       "      <td>1659463</td>\n",
       "      <td>47734</td>\n",
       "      <td>0</td>\n",
       "      <td>0</td>\n",
       "      <td>100.0</td>\n",
       "      <td>1</td>\n",
       "      <td>0</td>\n",
       "      <td>0</td>\n",
       "      <td>59</td>\n",
       "      <td>...</td>\n",
       "      <td>45</td>\n",
       "      <td>0</td>\n",
       "      <td>0.0</td>\n",
       "      <td>0</td>\n",
       "      <td>0.0</td>\n",
       "      <td>1</td>\n",
       "      <td>0</td>\n",
       "      <td>421.50</td>\n",
       "      <td>7</td>\n",
       "      <td>1500</td>\n",
       "    </tr>\n",
       "    <tr>\n",
       "      <th>1</th>\n",
       "      <td>47735</td>\n",
       "      <td>1659508</td>\n",
       "      <td>47735</td>\n",
       "      <td>0</td>\n",
       "      <td>1</td>\n",
       "      <td>400.0</td>\n",
       "      <td>2</td>\n",
       "      <td>0</td>\n",
       "      <td>3</td>\n",
       "      <td>9</td>\n",
       "      <td>...</td>\n",
       "      <td>47</td>\n",
       "      <td>1</td>\n",
       "      <td>0.0</td>\n",
       "      <td>0</td>\n",
       "      <td>0.0</td>\n",
       "      <td>0</td>\n",
       "      <td>0</td>\n",
       "      <td>655.80</td>\n",
       "      <td>4</td>\n",
       "      <td>1526</td>\n",
       "    </tr>\n",
       "    <tr>\n",
       "      <th>2</th>\n",
       "      <td>47736</td>\n",
       "      <td>1659555</td>\n",
       "      <td>47736</td>\n",
       "      <td>0</td>\n",
       "      <td>0</td>\n",
       "      <td>0.0</td>\n",
       "      <td>0</td>\n",
       "      <td>0</td>\n",
       "      <td>0</td>\n",
       "      <td>72</td>\n",
       "      <td>...</td>\n",
       "      <td>28</td>\n",
       "      <td>0</td>\n",
       "      <td>0.0</td>\n",
       "      <td>0</td>\n",
       "      <td>0.0</td>\n",
       "      <td>0</td>\n",
       "      <td>0</td>\n",
       "      <td>74.58</td>\n",
       "      <td>1</td>\n",
       "      <td>1475</td>\n",
       "    </tr>\n",
       "    <tr>\n",
       "      <th>3</th>\n",
       "      <td>47737</td>\n",
       "      <td>1659621</td>\n",
       "      <td>47737</td>\n",
       "      <td>0</td>\n",
       "      <td>0</td>\n",
       "      <td>68.6</td>\n",
       "      <td>0</td>\n",
       "      <td>0</td>\n",
       "      <td>0</td>\n",
       "      <td>68</td>\n",
       "      <td>...</td>\n",
       "      <td>92</td>\n",
       "      <td>0</td>\n",
       "      <td>0.0</td>\n",
       "      <td>0</td>\n",
       "      <td>0.0</td>\n",
       "      <td>0</td>\n",
       "      <td>0</td>\n",
       "      <td>167.20</td>\n",
       "      <td>2</td>\n",
       "      <td>1464</td>\n",
       "    </tr>\n",
       "    <tr>\n",
       "      <th>4</th>\n",
       "      <td>47738</td>\n",
       "      <td>1659675</td>\n",
       "      <td>47738</td>\n",
       "      <td>0</td>\n",
       "      <td>1</td>\n",
       "      <td>370.5</td>\n",
       "      <td>3</td>\n",
       "      <td>0</td>\n",
       "      <td>1</td>\n",
       "      <td>45</td>\n",
       "      <td>...</td>\n",
       "      <td>26</td>\n",
       "      <td>0</td>\n",
       "      <td>0.0</td>\n",
       "      <td>0</td>\n",
       "      <td>0.0</td>\n",
       "      <td>0</td>\n",
       "      <td>0</td>\n",
       "      <td>146.70</td>\n",
       "      <td>3</td>\n",
       "      <td>1505</td>\n",
       "    </tr>\n",
       "  </tbody>\n",
       "</table>\n",
       "<p>5 rows × 25 columns</p>\n",
       "</div>"
      ],
      "text/plain": [
       "      Id  groupId  matchId  assists  boosts  damageDealt  DBNOs  \\\n",
       "0  47734  1659463    47734        0       0        100.0      1   \n",
       "1  47735  1659508    47735        0       1        400.0      2   \n",
       "2  47736  1659555    47736        0       0          0.0      0   \n",
       "3  47737  1659621    47737        0       0         68.6      0   \n",
       "4  47738  1659675    47738        0       1        370.5      3   \n",
       "\n",
       "   headshotKills  heals  killPlace    ...      numGroups  revives  \\\n",
       "0              0      0         59    ...             45        0   \n",
       "1              0      3          9    ...             47        1   \n",
       "2              0      0         72    ...             28        0   \n",
       "3              0      0         68    ...             92        0   \n",
       "4              0      1         45    ...             26        0   \n",
       "\n",
       "   rideDistance  roadKills  swimDistance  teamKills  vehicleDestroys  \\\n",
       "0           0.0          0           0.0          1                0   \n",
       "1           0.0          0           0.0          0                0   \n",
       "2           0.0          0           0.0          0                0   \n",
       "3           0.0          0           0.0          0                0   \n",
       "4           0.0          0           0.0          0                0   \n",
       "\n",
       "   walkDistance  weaponsAcquired  winPoints  \n",
       "0        421.50                7       1500  \n",
       "1        655.80                4       1526  \n",
       "2         74.58                1       1475  \n",
       "3        167.20                2       1464  \n",
       "4        146.70                3       1505  \n",
       "\n",
       "[5 rows x 25 columns]"
      ]
     },
     "execution_count": 134,
     "metadata": {},
     "output_type": "execute_result"
    }
   ],
   "source": [
    "#Reading testing csv\n",
    "testset = pd.read_csv(\"../rishi/Desktop/test.csv\")\n",
    "testset.head()"
   ]
  },
  {
   "cell_type": "code",
   "execution_count": 182,
   "metadata": {},
   "outputs": [
    {
     "data": {
      "text/plain": [
       "(1867913, 36)"
      ]
     },
     "execution_count": 182,
     "metadata": {},
     "output_type": "execute_result"
    }
   ],
   "source": [
    "testset.shape"
   ]
  },
  {
   "cell_type": "code",
   "execution_count": 183,
   "metadata": {},
   "outputs": [],
   "source": [
    "testset['playersJoined'] = testset.groupby('matchId')['matchId'].transform('count')\n",
    "#Normalized the killing data and damage dealt and added it to the dataset\n",
    "testset['killsNorm'] = testset['kills']*((100-testset['playersJoined'])/100 + 1)\n",
    "testset['damageDealtNorm'] = testset['damageDealt']*((100-testset['playersJoined'])/100 + 1)\n",
    "testset[['playersJoined', 'kills', 'killsNorm', 'damageDealt', 'damageDealtNorm']][12:25]\n",
    "# Another simple feature is the sum of heals and boosts. Also the sum of total distance travelled.\n",
    "testset[\"healsAndBoosts\"] = testset[\"heals\"] + testset[\"boosts\"]\n",
    "testset[\"totalDistance\"] = testset[\"walkDistance\"] + testset[\"rideDistance\"]+ testset[\"swimDistance\"]\n",
    "testset[\"healsPerWalkDistance\"] = testset[\"heals\"] / (testset[\"walkDistance\"]+1)\n",
    "# The heals used are > 0 and distance walked = 0 . This is Strange\n",
    "testset[\"healsPerWalkDistance\"].fillna(0,inplace = True)\n",
    "\n",
    "testset[\"boostsPerWalkDistance\"] = testset[\"boosts\"] / (testset[\"walkDistance\"] + 1)\n",
    "# The boosts used are > 0 and distance walked = 0 . This is Strange\n",
    "testset[\"boostsPerWalkDistance\"].fillna(0, inplace = True)\n",
    "\n",
    "testset['healsPerWalkDistance'].fillna(0, inplace=True)\n",
    "testset['healsAndBoostsPerWalkDistance'] = testset['healsAndBoosts']/(testset['walkDistance']+1) #The +1 is to avoid infinity.\n",
    "testset['healsAndBoostsPerWalkDistance'].fillna(0, inplace=True)\n",
    "testset[['walkDistance', 'boosts', 'boostsPerWalkDistance' ,'heals',  'healsPerWalkDistance', 'healsAndBoosts', 'healsAndBoostsPerWalkDistance']][10:20]\n",
    "testset['killsPerWalkDistance'] = testset['kills']/(testset['walkDistance']+1) #The +1 is to avoid infinity, because there are entries where kills>0 and walkDistance=0. Strange.\n",
    "testset['killsPerWalkDistance'].fillna(0, inplace=True)\n",
    "testset[['kills', 'walkDistance', 'rideDistance', 'killsPerWalkDistance']].sort_values(by='killsPerWalkDistance').tail(10)\n",
    "testset[\"team\"] = [1 if i>50 else 2 if(i>25 and i<=50) else 4 for i in testset[\"numGroups\"]]"
   ]
  },
  {
   "cell_type": "code",
   "execution_count": 184,
   "metadata": {},
   "outputs": [],
   "source": [
    "finalpred = testset[cols[1:]]\n",
    "new_pred = regressor.predict(finalpred)"
   ]
  },
  {
   "cell_type": "code",
   "execution_count": 185,
   "metadata": {},
   "outputs": [],
   "source": [
    "tobenormalizeddata = testset[\"winPlacePerc\"]"
   ]
  },
  {
   "cell_type": "code",
   "execution_count": 186,
   "metadata": {},
   "outputs": [],
   "source": [
    "minimum = tobenormalizeddata.min()\n",
    "maximun = tobenormalizeddata.max()"
   ]
  },
  {
   "cell_type": "code",
   "execution_count": 187,
   "metadata": {},
   "outputs": [],
   "source": [
    "tobenormalizeddata = (tobenormalizeddata-minimum)/(maximun-minimum)"
   ]
  },
  {
   "cell_type": "code",
   "execution_count": 188,
   "metadata": {},
   "outputs": [],
   "source": [
    "tobenormalizeddata = tobenormalizeddata.round(4)\n",
    "testset[\"winPlacePerc\"] = tobenormalizeddata"
   ]
  },
  {
   "cell_type": "code",
   "execution_count": 189,
   "metadata": {},
   "outputs": [],
   "source": [
    "final_sub = pd.read_csv(\"../rishi/Desktop/sample_submission.csv\")"
   ]
  },
  {
   "cell_type": "code",
   "execution_count": 178,
   "metadata": {},
   "outputs": [
    {
     "data": {
      "text/html": [
       "<div>\n",
       "<style scoped>\n",
       "    .dataframe tbody tr th:only-of-type {\n",
       "        vertical-align: middle;\n",
       "    }\n",
       "\n",
       "    .dataframe tbody tr th {\n",
       "        vertical-align: top;\n",
       "    }\n",
       "\n",
       "    .dataframe thead th {\n",
       "        text-align: right;\n",
       "    }\n",
       "</style>\n",
       "<table border=\"1\" class=\"dataframe\">\n",
       "  <thead>\n",
       "    <tr style=\"text-align: right;\">\n",
       "      <th></th>\n",
       "      <th>Id</th>\n",
       "      <th>winPlacePerc</th>\n",
       "    </tr>\n",
       "  </thead>\n",
       "  <tbody>\n",
       "    <tr>\n",
       "      <th>0</th>\n",
       "      <td>47734</td>\n",
       "      <td>0</td>\n",
       "    </tr>\n",
       "    <tr>\n",
       "      <th>1</th>\n",
       "      <td>47735</td>\n",
       "      <td>0</td>\n",
       "    </tr>\n",
       "    <tr>\n",
       "      <th>2</th>\n",
       "      <td>47736</td>\n",
       "      <td>0</td>\n",
       "    </tr>\n",
       "    <tr>\n",
       "      <th>3</th>\n",
       "      <td>47737</td>\n",
       "      <td>0</td>\n",
       "    </tr>\n",
       "    <tr>\n",
       "      <th>4</th>\n",
       "      <td>47738</td>\n",
       "      <td>0</td>\n",
       "    </tr>\n",
       "  </tbody>\n",
       "</table>\n",
       "</div>"
      ],
      "text/plain": [
       "      Id  winPlacePerc\n",
       "0  47734             0\n",
       "1  47735             0\n",
       "2  47736             0\n",
       "3  47737             0\n",
       "4  47738             0"
      ]
     },
     "execution_count": 178,
     "metadata": {},
     "output_type": "execute_result"
    }
   ],
   "source": [
    "final_sub.head()"
   ]
  },
  {
   "cell_type": "code",
   "execution_count": 179,
   "metadata": {},
   "outputs": [],
   "source": [
    "final_sub[\"winPlacePerc\"] = tobenormalizeddata"
   ]
  },
  {
   "cell_type": "code",
   "execution_count": 180,
   "metadata": {},
   "outputs": [
    {
     "data": {
      "text/html": [
       "<div>\n",
       "<style scoped>\n",
       "    .dataframe tbody tr th:only-of-type {\n",
       "        vertical-align: middle;\n",
       "    }\n",
       "\n",
       "    .dataframe tbody tr th {\n",
       "        vertical-align: top;\n",
       "    }\n",
       "\n",
       "    .dataframe thead th {\n",
       "        text-align: right;\n",
       "    }\n",
       "</style>\n",
       "<table border=\"1\" class=\"dataframe\">\n",
       "  <thead>\n",
       "    <tr style=\"text-align: right;\">\n",
       "      <th></th>\n",
       "      <th>Id</th>\n",
       "      <th>winPlacePerc</th>\n",
       "    </tr>\n",
       "  </thead>\n",
       "  <tbody>\n",
       "    <tr>\n",
       "      <th>0</th>\n",
       "      <td>47734</td>\n",
       "      <td>0.1892</td>\n",
       "    </tr>\n",
       "    <tr>\n",
       "      <th>1</th>\n",
       "      <td>47735</td>\n",
       "      <td>0.2081</td>\n",
       "    </tr>\n",
       "    <tr>\n",
       "      <th>2</th>\n",
       "      <td>47736</td>\n",
       "      <td>0.1235</td>\n",
       "    </tr>\n",
       "    <tr>\n",
       "      <th>3</th>\n",
       "      <td>47737</td>\n",
       "      <td>0.1377</td>\n",
       "    </tr>\n",
       "    <tr>\n",
       "      <th>4</th>\n",
       "      <td>47738</td>\n",
       "      <td>0.1674</td>\n",
       "    </tr>\n",
       "  </tbody>\n",
       "</table>\n",
       "</div>"
      ],
      "text/plain": [
       "      Id  winPlacePerc\n",
       "0  47734        0.1892\n",
       "1  47735        0.2081\n",
       "2  47736        0.1235\n",
       "3  47737        0.1377\n",
       "4  47738        0.1674"
      ]
     },
     "execution_count": 180,
     "metadata": {},
     "output_type": "execute_result"
    }
   ],
   "source": [
    "final_sub.head()"
   ]
  },
  {
   "cell_type": "code",
   "execution_count": 190,
   "metadata": {},
   "outputs": [],
   "source": [
    "final_sub.to_csv(\"../rishi/Desktop/sample_submission.csv\", index=False)"
   ]
  },
  {
   "cell_type": "code",
   "execution_count": null,
   "metadata": {},
   "outputs": [],
   "source": []
  }
 ],
 "metadata": {
  "kernelspec": {
   "display_name": "Python 3",
   "language": "python",
   "name": "python3"
  },
  "language_info": {
   "codemirror_mode": {
    "name": "ipython",
    "version": 3
   },
   "file_extension": ".py",
   "mimetype": "text/x-python",
   "name": "python",
   "nbconvert_exporter": "python",
   "pygments_lexer": "ipython3",
   "version": "3.6.5"
  }
 },
 "nbformat": 4,
 "nbformat_minor": 2
}
