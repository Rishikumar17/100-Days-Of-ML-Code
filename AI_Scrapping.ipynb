{
 "cells": [
  {
   "cell_type": "code",
   "execution_count": 1,
   "metadata": {},
   "outputs": [],
   "source": [
    "# !pip install bs4\n",
    "from bs4 import BeautifulSoup as soup"
   ]
  },
  {
   "cell_type": "code",
   "execution_count": 2,
   "metadata": {},
   "outputs": [],
   "source": [
    "from urllib.request import urlopen as uReq"
   ]
  },
  {
   "cell_type": "code",
   "execution_count": 43,
   "metadata": {},
   "outputs": [
    {
     "name": "stdout",
     "output_type": "stream",
     "text": [
      "Enter the course: csharp\n"
     ]
    }
   ],
   "source": [
    "courseToSearch = input(\"Enter the course: \")\n"
   ]
  },
  {
   "cell_type": "code",
   "execution_count": 44,
   "metadata": {},
   "outputs": [],
   "source": [
    "courseToSearch = courseToSearch.lower()"
   ]
  },
  {
   "cell_type": "code",
   "execution_count": 45,
   "metadata": {},
   "outputs": [],
   "source": [
    "my_url = \"https://www.tutorialspoint.com/\"+courseToSearch+\"/\"\n",
    "my_url\n",
    "master_url = \"https://www.tutorialspoint.com\""
   ]
  },
  {
   "cell_type": "code",
   "execution_count": 46,
   "metadata": {},
   "outputs": [],
   "source": [
    "uClient = uReq(my_url)"
   ]
  },
  {
   "cell_type": "code",
   "execution_count": 47,
   "metadata": {},
   "outputs": [],
   "source": [
    "page_html = uClient.read()"
   ]
  },
  {
   "cell_type": "code",
   "execution_count": 48,
   "metadata": {},
   "outputs": [],
   "source": [
    "uClient.close()"
   ]
  },
  {
   "cell_type": "code",
   "execution_count": 49,
   "metadata": {},
   "outputs": [],
   "source": [
    "page_soup = soup(page_html, \"html.parser\")"
   ]
  },
  {
   "cell_type": "code",
   "execution_count": 50,
   "metadata": {},
   "outputs": [],
   "source": [
    "containers = page_soup.findAll(\"ul\",{\"class\":\"nav nav-list primary left-menu\"})"
   ]
  },
  {
   "cell_type": "code",
   "execution_count": 51,
   "metadata": {},
   "outputs": [],
   "source": [
    "masterlistofatag = []\n",
    "masterhrefofatag = []\n",
    "mastertitleofatag = []"
   ]
  },
  {
   "cell_type": "code",
   "execution_count": 52,
   "metadata": {},
   "outputs": [],
   "source": [
    "\n",
    "for index, value in  enumerate(containers):\n",
    "    contain = containers[index]\n",
    "    lists = list(contain.findAll(\"li\"))\n",
    "    for i, val in enumerate(lists):\n",
    "        masterlistofatag.append(lists[i].find(\"a\"))\n",
    "        temp = str(lists[i].find(\"a\"))\n",
    "        if temp == \"None\":\n",
    "            continue\n",
    "        else:\n",
    "            linkdict = lists[i].find(\"a\").attrs\n",
    "            if len(linkdict)!=3:\n",
    "                masterhrefofatag.append(linkdict[\"href\"])\n",
    "                title = lists[i].find(\"a\").contents\n",
    "                mastertitleofatag.append(title[0])\n",
    "\n",
    "# print(masterhrefofatag)\n",
    "# print(mastertitleofatag)"
   ]
  },
  {
   "cell_type": "code",
   "execution_count": 53,
   "metadata": {},
   "outputs": [],
   "source": [
    "myDict = {}\n",
    "myDict = dict(zip(mastertitleofatag,masterhrefofatag))"
   ]
  },
  {
   "cell_type": "code",
   "execution_count": 54,
   "metadata": {},
   "outputs": [
    {
     "name": "stdout",
     "output_type": "stream",
     "text": [
      "C# - Home /csharp/index.htm\n",
      "C# - Overview /csharp/csharp_overview.htm\n",
      "C# - Environment /csharp/csharp_environment_setup.htm\n",
      "C# - Program Structure /csharp/csharp_program_structure.htm\n",
      "C# - Basic Syntax /csharp/csharp_basic_syntax.htm\n",
      "C# - Data Types /csharp/csharp_data_types.htm\n",
      "C# - Type Conversion /csharp/csharp_type_conversion.htm\n",
      "C# - Variables /csharp/csharp_variables.htm\n",
      "C# - Constants /csharp/csharp_constants.htm\n",
      "C# - Operators /csharp/csharp_operators.htm\n",
      "C# - Decision Making /csharp/csharp_decision_making.htm\n",
      "C# - Loops /csharp/csharp_loops.htm\n",
      "C# - Encapsulation /csharp/csharp_encapsulation.htm\n",
      "C# -  Methods /csharp/csharp_methods.htm\n",
      "C# -  Nullables /csharp/csharp_nullables.htm\n",
      "C# - Arrays /csharp/csharp_arrays.htm\n",
      "C# - Strings /csharp/csharp_strings.htm\n",
      "C# - Structure /csharp/csharp_struct.htm\n",
      "C# - Enums /csharp/csharp_enums.htm\n",
      "C# - Classes /csharp/csharp_classes.htm\n",
      "C# - Inheritance /csharp/csharp_inheritance.htm\n",
      "C# - Polymorphism /csharp/csharp_polymorphism.htm\n",
      "C# - Operator Overloading /csharp/csharp_operator_overloading.htm\n",
      "C# - Interfaces /csharp/csharp_interfaces.htm\n",
      "C# - Namespaces /csharp/csharp_namespaces.htm\n",
      "C# - Preprocessor Directives /csharp/csharp_preprocessor_directives.htm\n",
      "C# - Regular Expressions /csharp/csharp_regular_expressions.htm\n",
      "C# - Exception Handling /csharp/csharp_exception_handling.htm\n",
      "C# - File I/O /csharp/csharp_file_io.htm\n",
      "C# - Attributes /csharp/csharp_attributes.htm\n",
      "C# - Reflection /csharp/csharp_reflection.htm\n",
      "C# - Properties /csharp/csharp_properties.htm\n",
      "C# - Indexers /csharp/csharp_indexers.htm\n",
      "C# - Delegates /csharp/csharp_delegates.htm\n",
      "C# - Events /csharp/csharp_events.htm\n",
      "C# - Collections /csharp/csharp_collections.htm\n",
      "C# - Generics /csharp/csharp_generics.htm\n",
      "C# - Anonymous Methods /csharp/csharp_anonymous_methods.htm\n",
      "C# - Unsafe Codes /csharp/csharp_unsafe_codes.htm\n",
      "C# - Multithreading /csharp/csharp_multithreading.htm\n",
      "C# - Questions and Answers /csharp/csharp_questions_answers.htm\n",
      "C# - Quick Guide /csharp/csharp_quick_guide.htm\n",
      "C# - Useful Resources /csharp/csharp_useful_resources.htm\n",
      "C# - Discussion /csharp/csharp_discussion.htm\n"
     ]
    }
   ],
   "source": [
    "showAll()"
   ]
  },
  {
   "cell_type": "code",
   "execution_count": 37,
   "metadata": {},
   "outputs": [],
   "source": [
    "def showAll():\n",
    "    for key,value in myDict.items():\n",
    "        print(key,value)\n"
   ]
  },
  {
   "cell_type": "code",
   "execution_count": 38,
   "metadata": {},
   "outputs": [],
   "source": [
    "def getURLPath(topic_name):\n",
    "    return master_url+myDict[topic_name]"
   ]
  },
  {
   "cell_type": "code",
   "execution_count": 39,
   "metadata": {},
   "outputs": [
    {
     "ename": "KeyError",
     "evalue": "'Java - Collections'",
     "output_type": "error",
     "traceback": [
      "\u001b[0;31m---------------------------------------------------------------------------\u001b[0m",
      "\u001b[0;31mKeyError\u001b[0m                                  Traceback (most recent call last)",
      "\u001b[0;32m<ipython-input-39-8e1dbf5a408c>\u001b[0m in \u001b[0;36m<module>\u001b[0;34m()\u001b[0m\n\u001b[0;32m----> 1\u001b[0;31m \u001b[0mcontent_url\u001b[0m \u001b[0;34m=\u001b[0m \u001b[0mgetURLPath\u001b[0m\u001b[0;34m(\u001b[0m\u001b[0;34m\"Java - Collections\"\u001b[0m\u001b[0;34m)\u001b[0m\u001b[0;34m\u001b[0m\u001b[0m\n\u001b[0m\u001b[1;32m      2\u001b[0m \u001b[0mcontent_url\u001b[0m\u001b[0;34m\u001b[0m\u001b[0m\n",
      "\u001b[0;32m<ipython-input-38-e0568158daa0>\u001b[0m in \u001b[0;36mgetURLPath\u001b[0;34m(topic_name)\u001b[0m\n\u001b[1;32m      1\u001b[0m \u001b[0;32mdef\u001b[0m \u001b[0mgetURLPath\u001b[0m\u001b[0;34m(\u001b[0m\u001b[0mtopic_name\u001b[0m\u001b[0;34m)\u001b[0m\u001b[0;34m:\u001b[0m\u001b[0;34m\u001b[0m\u001b[0m\n\u001b[0;32m----> 2\u001b[0;31m     \u001b[0;32mreturn\u001b[0m \u001b[0mmaster_url\u001b[0m\u001b[0;34m+\u001b[0m\u001b[0mmyDict\u001b[0m\u001b[0;34m[\u001b[0m\u001b[0mtopic_name\u001b[0m\u001b[0;34m]\u001b[0m\u001b[0;34m\u001b[0m\u001b[0m\n\u001b[0m",
      "\u001b[0;31mKeyError\u001b[0m: 'Java - Collections'"
     ]
    }
   ],
   "source": [
    "content_url = getURLPath(\"Java - Collections\")\n",
    "content_url"
   ]
  },
  {
   "cell_type": "code",
   "execution_count": 40,
   "metadata": {},
   "outputs": [],
   "source": [
    "uClient = uReq(content_url)\n",
    "page_html = uClient.read()\n",
    "uClient.close()\n",
    "page_soup = soup(page_html, \"html.parser\")\n",
    "# page_soup"
   ]
  },
  {
   "cell_type": "code",
   "execution_count": 41,
   "metadata": {},
   "outputs": [],
   "source": [
    "contents = page_soup.findAll(\"div\",{\"class\":\"col-md-7 middle-col\"})"
   ]
  },
  {
   "cell_type": "code",
   "execution_count": 42,
   "metadata": {},
   "outputs": [
    {
     "name": "stdout",
     "output_type": "stream",
     "text": [
      "1\n"
     ]
    },
    {
     "data": {
      "text/plain": [
       "[<p>Prior to Java 2, Java provided ad hoc classes such as <b>Dictionary, Vector, Stack,</b> and <b>Properties</b> to store and manipulate groups of objects. Although these classes were quite useful, they lacked a central, unifying theme. Thus, the way that you used Vector was different from the way that you used Properties.</p>,\n",
       " <p>The collections framework was designed to meet several goals, such as −</p>,\n",
       " <p>The framework had to be high-performance. The implementations for the fundamental collections (dynamic arrays, linked lists, trees, and hashtables) were to be highly efficient.</p>,\n",
       " <p>The framework had to allow different types of collections to work in a similar manner and with a high degree of interoperability.</p>,\n",
       " <p>The framework had to extend and/or adapt a collection easily.</p>,\n",
       " <p>Towards this end, the entire collections framework is designed around a set of standard interfaces. Several standard implementations such as <b>LinkedList, HashSet,</b> and <b>TreeSet</b>, of these interfaces are provided that you may use as-is and you may also implement your own collection, if you choose.</p>,\n",
       " <p>A collections framework is a unified architecture for representing and manipulating collections. All collections frameworks contain the following −</p>,\n",
       " <p><b>Interfaces</b> − These are abstract data types that represent collections. Interfaces allow collections to be manipulated independently of the details of their representation. In object-oriented languages, interfaces generally form a hierarchy.</p>,\n",
       " <p><b>Implementations, i.e., Classes</b> − These are the concrete implementations of the collection interfaces. In essence, they are reusable data structures.</p>,\n",
       " <p><b>Algorithms</b> − These are the methods that perform useful computations, such as searching and sorting, on objects that implement collection interfaces. The algorithms are said to be polymorphic: that is, the same method can be used on many different implementations of the appropriate collection interface.</p>,\n",
       " <p>In addition to collections, the framework defines several map interfaces and classes. Maps store key/value pairs. Although maps are not <i>collections</i> in the proper use of the term, but they are fully integrated with collections.</p>,\n",
       " <p>The collections framework defines several interfaces. This section provides an overview of each interface −</p>,\n",
       " <p>This enables you to work with groups of objects; it is at the top of the collections hierarchy.</p>,\n",
       " <p>This extends <b>Collection</b> and an instance of List stores an ordered collection of elements.</p>,\n",
       " <p>This extends Collection to handle sets, which must contain unique elements.</p>,\n",
       " <p>This extends Set to handle sorted sets.</p>,\n",
       " <p>This maps unique keys to values.</p>,\n",
       " <p>This describes an element (a key/value pair) in a map. This is an inner class of Map.</p>,\n",
       " <p>This extends Map so that the keys are maintained in an ascending order.</p>,\n",
       " <p>This is legacy interface defines the methods by which you can enumerate (obtain one at a time) the elements in a collection of objects. This legacy interface has been superceded by Iterator.</p>,\n",
       " <p>Java provides a set of standard collection classes that implement Collection interfaces. Some of the classes provide full implementations that can be used as-is and others are abstract class, providing skeletal implementations that are used as starting points for creating concrete collections.</p>,\n",
       " <p>The standard collection classes are summarized in the following table −</p>,\n",
       " <p><b>AbstractCollection</b></p>,\n",
       " <p>Implements most of the Collection interface.</p>,\n",
       " <p><b>AbstractList</b></p>,\n",
       " <p>Extends AbstractCollection and implements most of the List interface.</p>,\n",
       " <p><b>AbstractSequentialList</b></p>,\n",
       " <p>Extends AbstractList for use by a collection that uses sequential rather than random access of its elements.</p>,\n",
       " <p>Implements a linked list by extending AbstractSequentialList.</p>,\n",
       " <p>Implements a dynamic array by extending AbstractList.</p>,\n",
       " <p><b>AbstractSet</b></p>,\n",
       " <p>Extends AbstractCollection and implements most of the Set interface.</p>,\n",
       " <p>Extends AbstractSet for use with a hash table.</p>,\n",
       " <p>Extends HashSet to allow insertion-order iterations.</p>,\n",
       " <p>Implements a set stored in a tree. Extends AbstractSet.</p>,\n",
       " <p><b>AbstractMap</b></p>,\n",
       " <p>Implements most of the Map interface.</p>,\n",
       " <p>Extends AbstractMap to use a hash table.</p>,\n",
       " <p>Extends AbstractMap to use a tree.</p>,\n",
       " <p>Extends AbstractMap to use a hash table with weak keys.</p>,\n",
       " <p>Extends HashMap to allow insertion-order iterations.</p>,\n",
       " <p>Extends AbstractMap and uses reference equality when comparing documents.</p>,\n",
       " <p>The <i>AbstractCollection, AbstractSet, AbstractList, AbstractSequentialList</i> and <i>AbstractMap</i> classes provide skeletal implementations of the core collection interfaces, to minimize the effort required to implement them.</p>,\n",
       " <p>The following legacy classes defined by java.util have been discussed in the previous chapter −</p>,\n",
       " <p>This implements a dynamic array. It is similar to ArrayList, but with some differences.</p>,\n",
       " <p>Stack is a subclass of Vector that implements a standard last-in, first-out stack.</p>,\n",
       " <p>Dictionary is an abstract class that represents a key/value storage repository and operates much like Map.</p>,\n",
       " <p>Hashtable was part of the original java.util and is a concrete implementation of a Dictionary.</p>,\n",
       " <p>Properties is a subclass of Hashtable. It is used to maintain lists of values in which the key is a String and the value is also a String.</p>,\n",
       " <p>A BitSet class creates a special type of array that holds bit values. This array can increase in size as needed.</p>,\n",
       " <p>The collections framework defines several algorithms that can be applied to collections and maps. These algorithms are defined as static methods within the Collections class.</p>,\n",
       " <p>Several of the methods can throw a <b>ClassCastException</b>, which occurs when an attempt is made to compare incompatible types, or an <b>UnsupportedOperationException</b>, which occurs when an attempt is made to modify an unmodifiable collection.</p>,\n",
       " <p>Collections define three static variables: EMPTY_SET, EMPTY_LIST, and EMPTY_MAP. All are immutable.</p>,\n",
       " <p>Here is a list of all the algorithm implementation.</p>,\n",
       " <p>Often, you will want to cycle through the elements in a collection. For example, you might want to display each element.</p>,\n",
       " <p>The easiest way to do this is to employ an iterator, which is an object that implements either the Iterator or the ListIterator interface.</p>,\n",
       " <p>Iterator enables you to cycle through a collection, obtaining or removing elements. ListIterator extends Iterator to allow bidirectional traversal of a list and the modification of elements.</p>,\n",
       " <p>Here is a list of all the methods with examples provided by Iterator  and ListIterator interfaces.</p>,\n",
       " <p>Both TreeSet and TreeMap store elements in a sorted order. However, it is the comparator that defines precisely what <i>sorted order</i> means.</p>,\n",
       " <p>This interface lets us sort a given collection any number of different ways. Also this interface can be used to sort any instances of any class (even classes we cannot modify).</p>,\n",
       " <p>Here is a list of all the methods with examples provided by Comparator Interface.</p>,\n",
       " <p>The Java collections framework gives the programmer access to prepackaged data structures as well as to algorithms for manipulating them.</p>,\n",
       " <p>A collection is an object that can hold references to other objects. The collection interfaces declare the operations that can be performed on each type of collection.</p>,\n",
       " <p>The classes and interfaces of the collections framework are in package java.util.</p>]"
      ]
     },
     "execution_count": 42,
     "metadata": {},
     "output_type": "execute_result"
    }
   ],
   "source": [
    "for index,con in enumerate(contents):\n",
    "    print(len(contents))\n",
    "    content = contents[index]\n",
    "    plists = list(content.findAll(\"p\"))\n",
    "plists"
   ]
  },
  {
   "cell_type": "code",
   "execution_count": null,
   "metadata": {},
   "outputs": [],
   "source": []
  }
 ],
 "metadata": {
  "kernelspec": {
   "display_name": "Python 3",
   "language": "python",
   "name": "python3"
  },
  "language_info": {
   "codemirror_mode": {
    "name": "ipython",
    "version": 3
   },
   "file_extension": ".py",
   "mimetype": "text/x-python",
   "name": "python",
   "nbconvert_exporter": "python",
   "pygments_lexer": "ipython3",
   "version": "3.6.5"
  }
 },
 "nbformat": 4,
 "nbformat_minor": 2
}
